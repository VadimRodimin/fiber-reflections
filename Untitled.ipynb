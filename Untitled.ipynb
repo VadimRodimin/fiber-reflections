{
 "cells": [
  {
   "cell_type": "code",
   "execution_count": 12,
   "metadata": {},
   "outputs": [
    {
     "name": "stdout",
     "output_type": "stream",
     "text": [
      "6.56115121882257e-16 \n",
      " 3.3523575955994945e-22\n",
      "50.6462726900338\n"
     ]
    }
   ],
   "source": [
    "from  math import log10 as log\n",
    "#Sum, a, T, N = map(int, input().split(' '))\n",
    "a =41\n",
    "Sum = 12# 100\n",
    "P_in = 41.3*10**(-6) # Дж/с\n",
    "tact = 200*10**(-9) # с \n",
    "lam = 1550*10**(-9)# м\n",
    "h = 6.626*10**(-34)# Дж*с\n",
    "c = 299792458 # м/с\n",
    "P_at = P_in/(10**(a/10))# Дж*с\n",
    "E = P_at*tact\n",
    "#Num_tr = (P_at*tact*T*N)/(h*(c/lam))\n",
    "#print(Num_tr)\n",
    "#Q = (Sum *100)/Num_tr\n",
    "print(E, '\\n',(h*(c/lam)*Sum/65535/0.07) )\n",
    "a1 = 10*log(E/(h*(c/lam)*Sum/4000/0.068))\n",
    "a2 = 10*log(E/(h*(c/lam)*0.5))\n",
    "print(a1)\n",
    "ahist =51.97624686384038\n",
    "ahist2 = 52.40718528059061\n",
    "ahist3 = 50.6462726900338"
   ]
  },
  {
   "cell_type": "code",
   "execution_count": 8,
   "metadata": {},
   "outputs": [],
   "source": [
    "def openfile (way):\n",
    "    x = []\n",
    "    y = []\n",
    "    with open (way, 'r' ) as file:\n",
    "        for i, line in enumerate(file):\n",
    "            if i > 4:\n",
    "                currentline = line.split(\",\")\n",
    "                x.append(float(currentline[0]))\n",
    "                y.append(float(currentline[1]))\n",
    "    X = np.array(x)\n",
    "    y = np.array(y)\n",
    "    \n",
    "     \n",
    "    return X,y"
   ]
  },
  {
   "cell_type": "code",
   "execution_count": 22,
   "metadata": {},
   "outputs": [
    {
     "name": "stdout",
     "output_type": "stream",
     "text": [
      "40 45 50 55 60 65 69\n",
      "10661 10660 10836 10604 10049 6521 4067\n",
      "[40.0, 45.0, 50.0, 55.0, 60.0, 65.0, 69.0] [10661.0, 10660.0, 10836.0, 10604.0, 10049.0, 6521.0, 4067.0]\n"
     ]
    },
    {
     "data": {
      "text/plain": [
       "[<matplotlib.lines.Line2D at 0x17eef688e48>]"
      ]
     },
     "execution_count": 22,
     "metadata": {},
     "output_type": "execute_result"
    },
    {
     "data": {
      "image/png": "[encoded data removed]",
      "text/plain": [
       "<Figure size 1080x720 with 1 Axes>"
      ]
     },
     "metadata": {
      "needs_background": "light"
     },
     "output_type": "display_data"
    }
   ],
   "source": [
    "import matplotlib.pyplot as plt\n",
    "import numpy as np \n",
    "from matplotlib.ticker import MultipleLocator, FormatStrFormatter\n",
    "x = list(map(float, input().split(' ')))\n",
    "y = list(map(float, input().split(' ')))\n",
    "print(x,y)\n",
    "X = np.array(x)\n",
    "Y = np.array(y) \n",
    "fig = plt.figure(figsize=(15, 10))\n",
    "ax = fig.add_subplot(1,1,1)\n",
    "ax.plot(X,Y,c = 'deeppink')"
   ]
  },
  {
   "cell_type": "code",
   "execution_count": 23,
   "metadata": {},
   "outputs": [
    {
     "name": "stdout",
     "output_type": "stream",
     "text": [
      "hj\n"
     ]
    },
    {
     "ename": "ValueError",
     "evalue": "invalid literal for int() with base 10: 'hj'",
     "output_type": "error",
     "traceback": [
      "\u001b[1;31m---------------------------------------------------------------------------\u001b[0m",
      "\u001b[1;31mValueError\u001b[0m                                Traceback (most recent call last)",
      "\u001b[1;32m<ipython-input-23-7ee9cdbecc20>\u001b[0m in \u001b[0;36m<module>\u001b[1;34m\u001b[0m\n\u001b[0;32m      2\u001b[0m \u001b[1;32mfrom\u001b[0m \u001b[0mmath\u001b[0m \u001b[1;32mimport\u001b[0m \u001b[0mceil\u001b[0m\u001b[1;33m\u001b[0m\u001b[1;33m\u001b[0m\u001b[0m\n\u001b[0;32m      3\u001b[0m \u001b[1;32mfrom\u001b[0m \u001b[0mmath\u001b[0m \u001b[1;32mimport\u001b[0m \u001b[0mfloor\u001b[0m\u001b[1;33m\u001b[0m\u001b[1;33m\u001b[0m\u001b[0m\n\u001b[1;32m----> 4\u001b[1;33m \u001b[0ma\u001b[0m\u001b[1;33m,\u001b[0m \u001b[0mb\u001b[0m \u001b[1;33m=\u001b[0m \u001b[0mmap\u001b[0m\u001b[1;33m(\u001b[0m\u001b[0mint\u001b[0m\u001b[1;33m,\u001b[0m \u001b[0minput\u001b[0m\u001b[1;33m(\u001b[0m\u001b[1;33m)\u001b[0m\u001b[1;33m.\u001b[0m\u001b[0msplit\u001b[0m\u001b[1;33m(\u001b[0m\u001b[1;34m' '\u001b[0m\u001b[1;33m)\u001b[0m\u001b[1;33m)\u001b[0m\u001b[1;33m\u001b[0m\u001b[1;33m\u001b[0m\u001b[0m\n\u001b[0m\u001b[0;32m      5\u001b[0m \u001b[0mc\u001b[0m\u001b[1;33m,\u001b[0m \u001b[0md\u001b[0m \u001b[1;33m=\u001b[0m \u001b[0mmap\u001b[0m\u001b[1;33m(\u001b[0m\u001b[0mint\u001b[0m\u001b[1;33m,\u001b[0m \u001b[0minput\u001b[0m\u001b[1;33m(\u001b[0m\u001b[1;33m)\u001b[0m\u001b[1;33m.\u001b[0m\u001b[0msplit\u001b[0m\u001b[1;33m(\u001b[0m\u001b[1;34m' '\u001b[0m\u001b[1;33m)\u001b[0m\u001b[1;33m)\u001b[0m\u001b[1;33m\u001b[0m\u001b[1;33m\u001b[0m\u001b[0m\n\u001b[0;32m      6\u001b[0m \u001b[0mcount\u001b[0m \u001b[1;33m=\u001b[0m \u001b[1;36m0\u001b[0m\u001b[1;33m\u001b[0m\u001b[1;33m\u001b[0m\u001b[0m\n",
      "\u001b[1;31mValueError\u001b[0m: invalid literal for int() with base 10: 'hj'"
     ]
    }
   ],
   "source": [
    "from math import sqrt\n",
    "from math import ceil\n",
    "from math import floor\n",
    "a, b = map(int, input().split(' '))\n",
    "c, d = map(int, input().split(' '))\n",
    "count = 0\n",
    "for i in range(ceil((a/b)**2), floor((c/d)**2)+1):\n",
    "    if sqrt(i)>=(a/b) and sqrt(i)<=(c/d):\n",
    "        count += 1\n",
    "        print(i)\n",
    "print(count)"
   ]
  },
  {
   "cell_type": "code",
   "execution_count": 13,
   "metadata": {},
   "outputs": [
    {
     "name": "stdout",
     "output_type": "stream",
     "text": [
      "7 5\n",
      "2 1\n",
      "3\n"
     ]
    }
   ],
   "source": [
    "from math import sqrt\n",
    "from math import ceil\n",
    "from math import floor\n",
    "x, y = map(int, input().split(' '))\n",
    "a, b, c, d = map(int, input().split(' '))\n",
    "print(min(a,b,y-d,x-c))\n",
    "print(ceil((c/d)**2) - floor((a/b)**2))"
   ]
  },
  {
   "cell_type": "code",
   "execution_count": null,
   "metadata": {},
   "outputs": [],
   "source": [
    "P1_tp = 31\n",
    "P2_tp = 53\n",
    "P3_tp = 71\n",
    "i = 1\n",
    "L = [[1,10],[2,20],[3,40]]\n",
    "while i > 0 :\n",
    "    \n",
    "    if i%P1_tp:\n",
    "        \n",
    "    "
   ]
  },
  {
   "cell_type": "code",
   "execution_count": null,
   "metadata": {},
   "outputs": [],
   "source": [
    "from collections import Counter\n"
   ]
  }
 ],
 "metadata": {
  "kernelspec": {
   "display_name": "Python 3",
   "language": "python",
   "name": "python3"
  },
  "language_info": {
   "codemirror_mode": {
    "name": "ipython",
    "version": 3
   },
   "file_extension": ".py",
   "mimetype": "text/x-python",
   "name": "python",
   "nbconvert_exporter": "python",
   "pygments_lexer": "ipython3",
   "version": "3.7.4"
  }
 },
 "nbformat": 4,
 "nbformat_minor": 2
}
